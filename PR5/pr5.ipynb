{
  "cells": [
    {
      "cell_type": "markdown",
      "source": [
        "#  Практика 5: Атака с ограниченной памятью (PGD\n",
        "Projected Gradient Descent)\n",
        "Цель задания:\n",
        " Изучить одну из наиболее мощных атак на модели ИИ — атаку Projected Gradient Descent (PGD).\n",
        " Научиться использовать PGD для создания противоречивых примеров и оценить её влияние на\n",
        " обученные модели.\n",
        " Задачи:\n",
        " 1. Загрузить ранее обученную модель на датасете MNIST.\n",
        " 2. Изучить теоретические основы атаки PGD.\n",
        " 3. Реализовать атаку PGD с помощью фреймворка Foolbox.\n",
        " 4. Оценить точность модели на противоречивых примерах и сравнить с результатами на обычных\n",
        " данных.\n",
        "\n",
        " Выполнил студент ББМО-02-23 Евдокимов А.М.\n"
      ],
      "metadata": {
        "id": "kgF89FGAwuxn"
      }
    },
    {
      "cell_type": "markdown",
      "source": [
        "## Шаги выполнения:"
      ],
      "metadata": {
        "id": "JA4XLvM7w7WU"
      }
    },
    {
      "cell_type": "markdown",
      "source": [
        "### Шаг 1: Загрузка обученной модели и данных MNIST"
      ],
      "metadata": {
        "id": "nRPfuQouxAAP"
      }
    },
    {
      "cell_type": "code",
      "execution_count": null,
      "metadata": {
        "colab": {
          "base_uri": "https://localhost:8080/"
        },
        "id": "IIbWAi1TUdjE",
        "outputId": "ada26947-e104-4ec2-f752-88660a3d11d9"
      },
      "outputs": [
        {
          "name": "stdout",
          "output_type": "stream",
          "text": [
            "Downloading data from https://storage.googleapis.com/tensorflow/tf-keras-datasets/mnist.npz\n",
            "\u001b[1m11490434/11490434\u001b[0m \u001b[32m━━━━━━━━━━━━━━━━━━━━\u001b[0m\u001b[37m\u001b[0m \u001b[1m0s\u001b[0m 0us/step\n"
          ]
        },
        {
          "name": "stderr",
          "output_type": "stream",
          "text": [
            "WARNING:absl:Compiled the loaded model, but the compiled metrics have yet to be built. `model.compile_metrics` will be empty until you train or evaluate the model.\n"
          ]
        },
        {
          "name": "stdout",
          "output_type": "stream",
          "text": [
            "\u001b[1m313/313\u001b[0m \u001b[32m━━━━━━━━━━━━━━━━━━━━\u001b[0m\u001b[37m\u001b[0m \u001b[1m1s\u001b[0m 2ms/step - accuracy: 0.9731 - loss: 0.0858\n",
            "Test accuracy on clean images: 0.9772999882698059\n"
          ]
        }
      ],
      "source": [
        "import tensorflow as tf\n",
        "from tensorflow.keras.datasets import mnist\n",
        "from tensorflow.keras.utils import to_categorical\n",
        "\n",
        "(_, _), (test_images, test_labels) = mnist.load_data()\n",
        "\n",
        "test_images = test_images / 255.0\n",
        "\n",
        "test_labels = to_categorical(test_labels, num_classes=10)\n",
        "\n",
        "model = tf.keras.models.load_model('mnist_model.h5')\n",
        "\n",
        "test_loss, test_acc = model.evaluate(test_images, test_labels)\n",
        "print(f'Test accuracy on clean images: {test_acc}')"
      ]
    },
    {
      "cell_type": "markdown",
      "source": [
        "###  Шаг 2: Реализация атаки PGD с использованием Foolbox"
      ],
      "metadata": {
        "id": "eSHtmpQ6xDsO"
      }
    },
    {
      "cell_type": "code",
      "execution_count": null,
      "metadata": {
        "colab": {
          "base_uri": "https://localhost:8080/"
        },
        "id": "t4qHk9jxUxV2",
        "outputId": "73a35315-6b5f-4e40-ac17-3abcb641000f"
      },
      "outputs": [
        {
          "name": "stdout",
          "output_type": "stream",
          "text": [
            "Collecting foolbox\n",
            "  Downloading foolbox-3.3.4-py3-none-any.whl.metadata (7.3 kB)\n",
            "Requirement already satisfied: numpy in /usr/local/lib/python3.10/dist-packages (from foolbox) (1.26.4)\n",
            "Requirement already satisfied: scipy in /usr/local/lib/python3.10/dist-packages (from foolbox) (1.13.1)\n",
            "Requirement already satisfied: setuptools in /usr/local/lib/python3.10/dist-packages (from foolbox) (75.1.0)\n",
            "Collecting eagerpy>=0.30.0 (from foolbox)\n",
            "  Downloading eagerpy-0.30.0-py3-none-any.whl.metadata (5.5 kB)\n",
            "Requirement already satisfied: GitPython>=3.0.7 in /usr/local/lib/python3.10/dist-packages (from foolbox) (3.1.43)\n",
            "Requirement already satisfied: typing-extensions>=3.7.4.1 in /usr/local/lib/python3.10/dist-packages (from foolbox) (4.12.2)\n",
            "Requirement already satisfied: requests>=2.24.0 in /usr/local/lib/python3.10/dist-packages (from foolbox) (2.32.3)\n",
            "Requirement already satisfied: gitdb<5,>=4.0.1 in /usr/local/lib/python3.10/dist-packages (from GitPython>=3.0.7->foolbox) (4.0.11)\n",
            "Requirement already satisfied: charset-normalizer<4,>=2 in /usr/local/lib/python3.10/dist-packages (from requests>=2.24.0->foolbox) (3.4.0)\n",
            "Requirement already satisfied: idna<4,>=2.5 in /usr/local/lib/python3.10/dist-packages (from requests>=2.24.0->foolbox) (3.10)\n",
            "Requirement already satisfied: urllib3<3,>=1.21.1 in /usr/local/lib/python3.10/dist-packages (from requests>=2.24.0->foolbox) (2.2.3)\n",
            "Requirement already satisfied: certifi>=2017.4.17 in /usr/local/lib/python3.10/dist-packages (from requests>=2.24.0->foolbox) (2024.8.30)\n",
            "Requirement already satisfied: smmap<6,>=3.0.1 in /usr/local/lib/python3.10/dist-packages (from gitdb<5,>=4.0.1->GitPython>=3.0.7->foolbox) (5.0.1)\n",
            "Downloading foolbox-3.3.4-py3-none-any.whl (1.7 MB)\n",
            "\u001b[2K   \u001b[90m━━━━━━━━━━━━━━━━━━━━━━━━━━━━━━━━━━━━━━━━\u001b[0m \u001b[32m1.7/1.7 MB\u001b[0m \u001b[31m27.6 MB/s\u001b[0m eta \u001b[36m0:00:00\u001b[0m\n",
            "\u001b[?25hDownloading eagerpy-0.30.0-py3-none-any.whl (31 kB)\n",
            "Installing collected packages: eagerpy, foolbox\n",
            "Successfully installed eagerpy-0.30.0 foolbox-3.3.4\n"
          ]
        }
      ],
      "source": [
        "!pip install foolbox"
      ]
    },
    {
      "cell_type": "code",
      "execution_count": null,
      "metadata": {
        "colab": {
          "base_uri": "https://localhost:8080/",
          "height": 418
        },
        "id": "xlCcADIVZdSt",
        "outputId": "856a3f22-cc81-44d9-9191-aaa2ba9fd38e"
      },
      "outputs": [
        {
          "data": {
            "image/png": "[encoded data removed]",
            "text/plain": [
              "<Figure size 1000x500 with 2 Axes>"
            ]
          },
          "metadata": {},
          "output_type": "display_data"
        }
      ],
      "source": [
        "import foolbox as fb\n",
        "import tensorflow as tf\n",
        "import numpy as np\n",
        "\n",
        "image = tf.convert_to_tensor(test_images[0].reshape(1, 28, 28, 1), dtype=tf.float32)\n",
        "label = np.argmax(test_labels[0])\n",
        "\n",
        "# Инициализация Foolbox модели\n",
        "fmodel = fb.models.TensorFlowModel(model, bounds=(0, 1))\n",
        "\n",
        "# Создание PGD-атаки\n",
        "attack = fb.attacks.LinfPGD()\n",
        "\n",
        "# Выполнение атаки\n",
        "adversarial_image, _, success = attack(fmodel, image, np.array([label]), epsilons=0.00000001)\n",
        "\n",
        "# Визуализация\n",
        "plt.figure(figsize=(10, 5))\n",
        "plt.subplot(1, 2, 1)\n",
        "plt.title(\"Оригинальное изображение\")\n",
        "plt.imshow(tf.squeeze(image).numpy(), cmap=\"gray\")\n",
        "plt.axis('off')\n",
        "\n",
        "plt.subplot(1, 2, 2)\n",
        "plt.title(\"Противоречивое изображение (PGD)\")\n",
        "plt.imshow(tf.squeeze(adversarial_image).numpy(), cmap=\"gray\")\n",
        "plt.axis('off')\n",
        "\n",
        "plt.tight_layout()\n",
        "plt.show()"
      ]
    },
    {
      "cell_type": "markdown",
      "source": [
        "### Шаг 3: Оценка модели на противоречивых примерах"
      ],
      "metadata": {
        "id": "oLOKPkCyxIg0"
      }
    },
    {
      "cell_type": "code",
      "execution_count": null,
      "metadata": {
        "colab": {
          "background_save": true
        },
        "id": "G7lCzua7dhVe",
        "outputId": "a084a62c-1f3d-48fa-d416-741995c440b4"
      },
      "outputs": [
        {
          "name": "stdout",
          "output_type": "stream",
          "text": [
            "\u001b[1m313/313\u001b[0m \u001b[32m━━━━━━━━━━━━━━━━━━━━\u001b[0m\u001b[37m\u001b[0m \u001b[1m1s\u001b[0m 1ms/step - accuracy: 0.0912 - loss: 2.4363\n",
            "Accuracy on adversarial examples (PGD attack): 0.08919999748468399\n"
          ]
        }
      ],
      "source": [
        "adversarial_images = []\n",
        "\n",
        "# Обработка всех изображений\n",
        "for i in range(len(test_images)):\n",
        "    # Преобразование изображения и метки\n",
        "    image = tf.convert_to_tensor(test_images[i].reshape(1, 28, 28, 1), dtype=tf.float32)\n",
        "    label = np.argmax(test_labels[i])  # Преобразование в индекс класса (одномерный)\n",
        "\n",
        "    # Выполнение атаки\n",
        "    adversarial_image, _, success = attack(fmodel, image, np.array([label]), epsilons=0.00000001)\n",
        "\n",
        "    # Добавление атакованного изображения в список\n",
        "    adversarial_images.append(adversarial_image)\n",
        "\n",
        "# Преобразование списка атакованных изображений в массив NumPy\n",
        "adversarial_images = np.array(adversarial_images).reshape(len(test_images), 28, 28, 1)\n",
        "\n",
        "# Оценка точности модели на атакованных изображениях\n",
        "adversarial_loss, adversarial_acc = model.evaluate(adversarial_images, test_labels)\n",
        "print(f'Accuracy on adversarial examples (PGD attack): {adversarial_acc}')"
      ]
    },
    {
      "cell_type": "markdown",
      "source": [
        "## Вывод\n",
        "\n",
        "Результаты показывают, что модель демонстрирует высокую точность на чистых изображениях, составляющую 97.73%, что указывает на хорошую обобщающую способность и правильную работу модели на тестовом наборе. Однако после применения атаки PGD точность модели значительно снижается до 8.92%, что является ярким примером того, как атакующие примеры могут ослабить работу модели. Также наблюдается значительное увеличение потерь (loss) до 2.4363, что подтверждает, что модель делает гораздо больше ошибок при классификации атакованных примеров."
      ],
      "metadata": {
        "id": "wCR7-qscD7qa"
      }
    },
    {
      "cell_type": "code",
      "source": [],
      "metadata": {
        "id": "ouPwsRNiEEJ9"
      },
      "execution_count": null,
      "outputs": []
    },
    {
      "cell_type": "code",
      "source": [],
      "metadata": {
        "id": "cXJbYToIEEGJ"
      },
      "execution_count": null,
      "outputs": []
    },
    {
      "cell_type": "code",
      "source": [],
      "metadata": {
        "id": "-fpnlQBCEEDg"
      },
      "execution_count": null,
      "outputs": []
    },
    {
      "cell_type": "code",
      "source": [],
      "metadata": {
        "id": "Hxc-tVNSEEA8"
      },
      "execution_count": null,
      "outputs": []
    },
    {
      "cell_type": "code",
      "source": [],
      "metadata": {
        "id": "Vl3ENpJ8ED-l"
      },
      "execution_count": null,
      "outputs": []
    },
    {
      "cell_type": "code",
      "source": [],
      "metadata": {
        "id": "QnsW4kafED7t"
      },
      "execution_count": null,
      "outputs": []
    },
    {
      "cell_type": "code",
      "source": [],
      "metadata": {
        "id": "e8aX08sqED5I"
      },
      "execution_count": null,
      "outputs": []
    },
    {
      "cell_type": "code",
      "source": [],
      "metadata": {
        "id": "zgR8_9e0ED2q"
      },
      "execution_count": null,
      "outputs": []
    },
    {
      "cell_type": "code",
      "source": [],
      "metadata": {
        "id": "j18dv84oEDz8"
      },
      "execution_count": null,
      "outputs": []
    },
    {
      "cell_type": "code",
      "source": [],
      "metadata": {
        "id": "lQdy-cooEDxV"
      },
      "execution_count": null,
      "outputs": []
    },
    {
      "cell_type": "markdown",
      "source": [
        "\n",
        "#### PS. Чуть чуть самодеятельности\n"
      ],
      "metadata": {
        "id": "wZ6xgoUmxRlS"
      }
    },
    {
      "cell_type": "code",
      "source": [
        "# Параметры PGD\n",
        "epsilon = 0.3\n",
        "alpha = 0.01\n",
        "iterations = 10\n",
        "\n",
        "# PGD атака\n",
        "def pgd_attack(model, image, label, epsilon, alpha, iterations):\n",
        "    adv_image = tf.convert_to_tensor(image)\n",
        "    for _ in range(iterations):\n",
        "        with tf.GradientTape() as tape:\n",
        "            tape.watch(adv_image)\n",
        "            prediction = model(adv_image)\n",
        "            loss = tf.keras.losses.categorical_crossentropy(label, prediction)\n",
        "        gradient = tape.gradient(loss, adv_image)\n",
        "        adv_image = adv_image + alpha * tf.sign(gradient)\n",
        "        adv_image = tf.clip_by_value(adv_image, image - epsilon, image + epsilon)\n",
        "        adv_image = tf.clip_by_value(adv_image, 0, 1)\n",
        "    return adv_image.numpy()\n",
        "\n",
        "# Выбор примера\n",
        "sample_idx = 12\n",
        "original_image = x_test[sample_idx:sample_idx + 1]\n",
        "original_label = y_test[sample_idx:sample_idx + 1]\n",
        "\n",
        "# Создание атакованного изображения\n",
        "adv_image = pgd_attack(model, original_image, original_label, epsilon, alpha, iterations)\n",
        "\n",
        "# Получение предсказаний\n",
        "original_pred_prob = model.predict(original_image, verbose=0)\n",
        "adv_pred_prob = model.predict(adv_image, verbose=0)\n",
        "original_pred = np.argmax(original_pred_prob)\n",
        "adv_pred = np.argmax(adv_pred_prob)\n",
        "\n",
        "# Точность в процентах\n",
        "original_accuracy = original_pred_prob[0, np.argmax(original_label)] * 100\n",
        "adv_accuracy = adv_pred_prob[0, np.argmax(original_label)] * 100\n",
        "\n",
        "# Вывод точности\n",
        "print(f\"Предсказание оригинальное изображение : {original_pred}, Accuracy: {original_accuracy:.2f}%\")\n",
        "print(f\"Предсказание противоречивое изображение: {adv_pred}, Accuracy: {adv_accuracy:.2f}%\")\n",
        "\n",
        "# Визуализация\n",
        "difference = np.abs(adv_image - original_image)\n",
        "\n",
        "plt.figure(figsize=(15, 5))\n",
        "\n",
        "# Оригинальное изображение\n",
        "plt.subplot(1, 3, 1)\n",
        "plt.title(\"Оригинальное изображение\")\n",
        "plt.imshow(original_image[0, :, :, 0], cmap='gray')\n",
        "plt.axis('off')\n",
        "\n",
        "# Противоречивое изображение\n",
        "plt.subplot(1, 3, 2)\n",
        "plt.title(\"Противоречивое изображение (PGD)\")\n",
        "plt.imshow(adv_image[0, :, :, 0], cmap='gray')\n",
        "plt.axis('off')\n",
        "\n",
        "# Разница\n",
        "plt.subplot(1, 3, 3)\n",
        "plt.title(\"Разница (усилено для наглядности)\")\n",
        "plt.imshow(difference[0, :, :, 0] * 10, cmap='hot')  # Усиление контраста\n",
        "plt.axis('off')\n",
        "\n",
        "plt.tight_layout()\n",
        "plt.show()"
      ],
      "metadata": {
        "colab": {
          "base_uri": "https://localhost:8080/",
          "height": 563
        },
        "id": "bBITY87S_vdu",
        "outputId": "ab7509c0-4360-4689-e241-a477e757c7b9"
      },
      "execution_count": 217,
      "outputs": [
        {
          "output_type": "stream",
          "name": "stdout",
          "text": [
            "Предсказание оригинальное изображение : 9, Accuracy: 99.97%\n",
            "Предсказание противоречивое изображение: 4, Accuracy: 0.30%\n"
          ]
        },
        {
          "output_type": "display_data",
          "data": {
            "text/plain": [
              "<Figure size 1500x500 with 3 Axes>"
            ],
            "image/png": "[encoded data removed]"
          },
          "metadata": {}
        }
      ]
    },
    {
      "cell_type": "markdown",
      "source": [
        "## Вывод\n",
        "\n",
        "Модель правильно классифицировала оригинальное изображение как цифру 9 с высокой точностью 99.97%, что подтверждает её способность корректно обрабатывать исходные данные.\n",
        "\n",
        "После внесения небольших возмущений PGD-атакой изображение было классифицировано как цифра 4, что является ошибкой. Точность на этом изображении снизилась до 0.30%, демонстрируя уязвимость модели к противоречивым примерам.\n",
        "\n",
        "PGD-атака успешно ввела модель в заблуждение, хотя визуальные изменения в изображении были минимальны."
      ],
      "metadata": {
        "id": "rlUx3lmbDUg-"
      }
    }
  ],
  "metadata": {
    "colab": {
      "provenance": []
    },
    "kernelspec": {
      "display_name": "Python 3",
      "name": "python3"
    },
    "language_info": {
      "name": "python"
    }
  },
  "nbformat": 4,
  "nbformat_minor": 0
}