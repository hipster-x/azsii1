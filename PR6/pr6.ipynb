{
  "nbformat": 4,
  "nbformat_minor": 0,
  "metadata": {
    "colab": {
      "provenance": []
    },
    "kernelspec": {
      "name": "python3",
      "display_name": "Python 3"
    },
    "language_info": {
      "name": "python"
    }
  },
  "cells": [
    {
      "cell_type": "markdown",
      "source": [
        "#  Практика 6: Атака по переносу (Transfer Attack) на модели ИИ\n",
        "\n",
        "##  Цель задания:\n",
        "\n",
        " Изучить концепцию атаки по переносу, где противоречивые примеры, созданные для одной модели,\n",
        " используются для атаки на другую модель. Это задание требует создания нескольких моделей,\n",
        " генерации противоречивых примеров для одной модели и проверки их на другой модели.\n",
        "\n",
        " ###  Задачи:\n",
        " 1. Загрузить несколько моделей, обученных на датасете MNIST.\n",
        " 2. Изучить теоретические основы атаки по переносу.\n",
        " 3. Реализовать атаку FGSM на одну модель и проверить, как противоречивые примеры влияют на\n",
        " другую модель.\n",
        " 4. Оценить точность обеих моделей на противоречивых примерах и проанализировать\n",
        " переносимость атак.\n",
        "\n",
        " Выполнил студент ББМО-02-23 Евдокимов А.М."
      ],
      "metadata": {
        "id": "-OHvM9A4_MUP"
      }
    },
    {
      "cell_type": "markdown",
      "source": [
        "## Шаги выполнения"
      ],
      "metadata": {
        "id": "iMIdaEQo_bS3"
      }
    },
    {
      "cell_type": "markdown",
      "source": [
        "### Шаг 1: Загрузка и создание двух различных моделей"
      ],
      "metadata": {
        "id": "1Mvooo18_esC"
      }
    },
    {
      "cell_type": "code",
      "source": [
        "import tensorflow as tf\n",
        "from tensorflow.keras.datasets import mnist\n",
        "from tensorflow.keras.models import Sequential\n",
        "from tensorflow.keras.layers import Dense, Flatten, Conv2D, MaxPooling2D\n",
        "from tensorflow.keras.utils import to_categorical"
      ],
      "metadata": {
        "id": "_blxZuwG_Zov"
      },
      "execution_count": 1,
      "outputs": []
    },
    {
      "cell_type": "code",
      "execution_count": 2,
      "metadata": {
        "colab": {
          "base_uri": "https://localhost:8080/"
        },
        "id": "Nq2WoL2k_J3E",
        "outputId": "07aac46d-4790-4c39-bdd8-57f6868e4b1f"
      },
      "outputs": [
        {
          "output_type": "stream",
          "name": "stdout",
          "text": [
            "Downloading data from https://storage.googleapis.com/tensorflow/tf-keras-datasets/mnist.npz\n",
            "\u001b[1m11490434/11490434\u001b[0m \u001b[32m━━━━━━━━━━━━━━━━━━━━\u001b[0m\u001b[37m\u001b[0m \u001b[1m1s\u001b[0m 0us/step\n"
          ]
        }
      ],
      "source": [
        "# Загрузка данных MNIST\n",
        "(train_images, train_labels), (test_images, test_labels) = mnist.load_data()\n",
        "# Нормализация данных\n",
        "train_images = train_images / 255.0\n",
        "test_images = test_images / 255.0\n",
        "# Преобразование меток в one-hot encoding\n",
        "train_labels = to_categorical(train_labels)\n",
        "test_labels = to_categorical(test_labels)"
      ]
    },
    {
      "cell_type": "code",
      "source": [
        "# Модель 1: Простая полносвязная нейронная сеть\n",
        "model1 = Sequential([\n",
        "    Flatten(input_shape=(28, 28)),\n",
        "    Dense(128, activation='relu'),\n",
        "    Dense(10, activation='softmax')\n",
        "])\n",
        " # Компиляция модели\n",
        "model1.compile(optimizer='adam', loss='categorical_crossentropy', metrics=['accuracy'])\n",
        "# Обучение модели\n",
        "model1.fit(train_images, train_labels, epochs=5)\n",
        "# Сохранение модели\n",
        "model1.save('mnist_model1.h5')"
      ],
      "metadata": {
        "colab": {
          "base_uri": "https://localhost:8080/"
        },
        "id": "-3HQGcetAFfR",
        "outputId": "b1b21d70-e2c7-4f85-f4b6-b106116f2d45"
      },
      "execution_count": 8,
      "outputs": [
        {
          "output_type": "stream",
          "name": "stdout",
          "text": [
            "Epoch 1/5\n",
            "\u001b[1m1875/1875\u001b[0m \u001b[32m━━━━━━━━━━━━━━━━━━━━\u001b[0m\u001b[37m\u001b[0m \u001b[1m8s\u001b[0m 4ms/step - accuracy: 0.8745 - loss: 0.4379\n",
            "Epoch 2/5\n",
            "\u001b[1m1875/1875\u001b[0m \u001b[32m━━━━━━━━━━━━━━━━━━━━\u001b[0m\u001b[37m\u001b[0m \u001b[1m8s\u001b[0m 3ms/step - accuracy: 0.9651 - loss: 0.1190\n",
            "Epoch 3/5\n",
            "\u001b[1m1875/1875\u001b[0m \u001b[32m━━━━━━━━━━━━━━━━━━━━\u001b[0m\u001b[37m\u001b[0m \u001b[1m7s\u001b[0m 4ms/step - accuracy: 0.9762 - loss: 0.0790\n",
            "Epoch 4/5\n",
            "\u001b[1m1875/1875\u001b[0m \u001b[32m━━━━━━━━━━━━━━━━━━━━\u001b[0m\u001b[37m\u001b[0m \u001b[1m9s\u001b[0m 3ms/step - accuracy: 0.9828 - loss: 0.0550\n",
            "Epoch 5/5\n",
            "\u001b[1m1875/1875\u001b[0m \u001b[32m━━━━━━━━━━━━━━━━━━━━\u001b[0m\u001b[37m\u001b[0m \u001b[1m7s\u001b[0m 4ms/step - accuracy: 0.9869 - loss: 0.0421\n"
          ]
        },
        {
          "output_type": "stream",
          "name": "stderr",
          "text": [
            "WARNING:absl:You are saving your model as an HDF5 file via `model.save()` or `keras.saving.save_model(model)`. This file format is considered legacy. We recommend using instead the native Keras format, e.g. `model.save('my_model.keras')` or `keras.saving.save_model(model, 'my_model.keras')`. \n"
          ]
        }
      ]
    },
    {
      "cell_type": "code",
      "source": [
        "test_loss, test_acc = model1.evaluate(test_images, test_labels)\n",
        "print(f'Test accuracy on clean images: {test_acc}')"
      ],
      "metadata": {
        "colab": {
          "base_uri": "https://localhost:8080/"
        },
        "id": "-Yz0O-PKBE6_",
        "outputId": "fea95cec-6b8d-41a1-81db-0112494cfb38"
      },
      "execution_count": 9,
      "outputs": [
        {
          "output_type": "stream",
          "name": "stdout",
          "text": [
            "\u001b[1m313/313\u001b[0m \u001b[32m━━━━━━━━━━━━━━━━━━━━\u001b[0m\u001b[37m\u001b[0m \u001b[1m1s\u001b[0m 2ms/step - accuracy: 0.9735 - loss: 0.0839\n",
            "Test accuracy on clean images: 0.9764000177383423\n"
          ]
        }
      ]
    },
    {
      "cell_type": "code",
      "source": [
        " #Модель 2: Свёрточная нейронная сеть (CNN)\n",
        "model2 = Sequential([\n",
        "    Conv2D(32, (3, 3), activation='relu', input_shape=(28, 28, 1)),\n",
        "    MaxPooling2D((2, 2)),\n",
        "    Flatten(),\n",
        "    Dense(128, activation='relu'),\n",
        "    Dense(10, activation='softmax')\n",
        "])\n",
        "# Компиляция модели\n",
        "model2.compile(optimizer='adam', loss='categorical_crossentropy', metrics=\n",
        " ['accuracy'])\n",
        "# Обучение модели\n",
        "model2.fit(train_images, train_labels, epochs=5)\n",
        "# Сохранение модели\n",
        "model2.save('mnist_model2.h5')"
      ],
      "metadata": {
        "colab": {
          "base_uri": "https://localhost:8080/"
        },
        "id": "V23523_CAQ04",
        "outputId": "05093022-0483-404d-c569-64866f0f9536"
      },
      "execution_count": 11,
      "outputs": [
        {
          "output_type": "stream",
          "name": "stderr",
          "text": [
            "/usr/local/lib/python3.10/dist-packages/keras/src/layers/convolutional/base_conv.py:107: UserWarning: Do not pass an `input_shape`/`input_dim` argument to a layer. When using Sequential models, prefer using an `Input(shape)` object as the first layer in the model instead.\n",
            "  super().__init__(activity_regularizer=activity_regularizer, **kwargs)\n"
          ]
        },
        {
          "output_type": "stream",
          "name": "stdout",
          "text": [
            "Epoch 1/5\n",
            "\u001b[1m1875/1875\u001b[0m \u001b[32m━━━━━━━━━━━━━━━━━━━━\u001b[0m\u001b[37m\u001b[0m \u001b[1m42s\u001b[0m 22ms/step - accuracy: 0.9151 - loss: 0.2903\n",
            "Epoch 2/5\n",
            "\u001b[1m1875/1875\u001b[0m \u001b[32m━━━━━━━━━━━━━━━━━━━━\u001b[0m\u001b[37m\u001b[0m \u001b[1m41s\u001b[0m 22ms/step - accuracy: 0.9849 - loss: 0.0502\n",
            "Epoch 3/5\n",
            "\u001b[1m1875/1875\u001b[0m \u001b[32m━━━━━━━━━━━━━━━━━━━━\u001b[0m\u001b[37m\u001b[0m \u001b[1m41s\u001b[0m 22ms/step - accuracy: 0.9909 - loss: 0.0290\n",
            "Epoch 4/5\n",
            "\u001b[1m1875/1875\u001b[0m \u001b[32m━━━━━━━━━━━━━━━━━━━━\u001b[0m\u001b[37m\u001b[0m \u001b[1m41s\u001b[0m 22ms/step - accuracy: 0.9940 - loss: 0.0184\n",
            "Epoch 5/5\n",
            "\u001b[1m1875/1875\u001b[0m \u001b[32m━━━━━━━━━━━━━━━━━━━━\u001b[0m\u001b[37m\u001b[0m \u001b[1m82s\u001b[0m 22ms/step - accuracy: 0.9966 - loss: 0.0111\n"
          ]
        },
        {
          "output_type": "stream",
          "name": "stderr",
          "text": [
            "WARNING:absl:You are saving your model as an HDF5 file via `model.save()` or `keras.saving.save_model(model)`. This file format is considered legacy. We recommend using instead the native Keras format, e.g. `model.save('my_model.keras')` or `keras.saving.save_model(model, 'my_model.keras')`. \n"
          ]
        }
      ]
    },
    {
      "cell_type": "code",
      "source": [
        "test_loss, test_acc = model2.evaluate(test_images, test_labels)\n",
        "print(f'Test accuracy on clean images: {test_acc}')"
      ],
      "metadata": {
        "colab": {
          "base_uri": "https://localhost:8080/"
        },
        "id": "CLfbFbICBUEa",
        "outputId": "e90c4a12-90a1-4221-c9f4-132ba6210bd7"
      },
      "execution_count": 12,
      "outputs": [
        {
          "output_type": "stream",
          "name": "stdout",
          "text": [
            "\u001b[1m313/313\u001b[0m \u001b[32m━━━━━━━━━━━━━━━━━━━━\u001b[0m\u001b[37m\u001b[0m \u001b[1m2s\u001b[0m 6ms/step - accuracy: 0.9814 - loss: 0.0588\n",
            "Test accuracy on clean images: 0.9848999977111816\n"
          ]
        }
      ]
    },
    {
      "cell_type": "markdown",
      "source": [
        "### Шаг 2: Теория атаки по переносу\n",
        "\n",
        "Атака по переносу — это метод, при котором противоречивые примеры, созданные для одной\n",
        " модели, применяются к другой модели. Это возможно, потому что модели часто имеют схожие\n",
        " слабости и могут совершать одинаковые ошибки на определенных данных, даже если они обучены\n",
        " на разных архитектурах.\n",
        " В этом задании мы создадим противоречивые примеры для первой модели с помощью FGSM и\n",
        " затем проверим, насколько эти примеры могут атаковать вторую модель."
      ],
      "metadata": {
        "id": "D9ex2EVAAv7B"
      }
    },
    {
      "cell_type": "markdown",
      "source": [
        "### Шаг 3: Реализация атаки FGSM на первую модель\n",
        "\n",
        " Мы применим атаку FGSM (Fast Gradient Sign Method) к первой модели, чтобы создать противоречивые примеры"
      ],
      "metadata": {
        "id": "PUOFasotBYfX"
      }
    },
    {
      "cell_type": "code",
      "source": [
        "import tensorflow as tf\n",
        "import numpy as np\n",
        "\n",
        "# FGSM-атака\n",
        "def fgsm_attack(image, epsilon, gradient):\n",
        "    perturbed_image = image + epsilon * tf.sign(gradient)\n",
        "    perturbed_image = tf.clip_by_value(perturbed_image, 0, 1)  # Ограничение значений в [0, 1]\n",
        "    return perturbed_image\n",
        "\n",
        "# Генерация противоречивых примеров\n",
        "def generate_fgsm_adversarial(model, images, labels, epsilon):\n",
        "    adversarial_images = []\n",
        "    for i in range(len(images)):\n",
        "        # Подготовка данных\n",
        "        image = tf.convert_to_tensor(images[i].reshape(1, 28, 28, 1), dtype=tf.float32)\n",
        "        label = tf.convert_to_tensor(labels[i].reshape(1, -1), dtype=tf.float32)\n",
        "\n",
        "        with tf.GradientTape() as tape:\n",
        "            tape.watch(image)\n",
        "            prediction = model(image)\n",
        "            loss = tf.keras.losses.categorical_crossentropy(label, prediction)\n",
        "\n",
        "        # Вычисление градиента\n",
        "        gradient = tape.gradient(loss, image)\n",
        "        adv_image = fgsm_attack(image, epsilon, gradient)\n",
        "        adversarial_images.append(adv_image.numpy().reshape(28, 28))\n",
        "\n",
        "    return np.array(adversarial_images)\n",
        "\n",
        "# Генерация противоречивых примеров\n",
        "epsilon = 0.1\n",
        "adversarial_images_model1 = generate_fgsm_adversarial(model1, test_images, test_labels, epsilon)\n"
      ],
      "metadata": {
        "id": "rdPe-nS_AqFR"
      },
      "execution_count": 42,
      "outputs": []
    },
    {
      "cell_type": "markdown",
      "source": [
        "Визуализация"
      ],
      "metadata": {
        "id": "WGNdJLftE8rw"
      }
    },
    {
      "cell_type": "code",
      "source": [
        "import matplotlib.pyplot as plt\n",
        "\n",
        "# Количество картинок для визуализации\n",
        "NUM_EXAMPLES = 3\n",
        "\n",
        "# Визуализация оригинальных и противоречивых изображений без использования функции\n",
        "plt.figure(figsize=(12, 6))\n",
        "\n",
        "for i in range(NUM_EXAMPLES):\n",
        "    # Оригинальное изображение\n",
        "    plt.subplot(2, NUM_EXAMPLES, i + 1)\n",
        "    plt.imshow(test_images[i].reshape(28, 28), cmap='gray')\n",
        "    plt.title(f\"Оригинальное изображение:\")\n",
        "    plt.axis('off')\n",
        "\n",
        "    # Противоречивое изображение\n",
        "    plt.subplot(2, NUM_EXAMPLES, NUM_EXAMPLES + i + 1)\n",
        "    plt.imshow(adversarial_images_model1[i], cmap='gray')\n",
        "    plt.title(\"Противоречивое изображение:\")\n",
        "    plt.axis('off')\n",
        "\n",
        "plt.tight_layout()\n",
        "plt.show()"
      ],
      "metadata": {
        "colab": {
          "base_uri": "https://localhost:8080/",
          "height": 502
        },
        "id": "Q7MbGyC6E-wx",
        "outputId": "f5c97168-7ea5-4da6-ed48-aecb63604e3e"
      },
      "execution_count": 43,
      "outputs": [
        {
          "output_type": "display_data",
          "data": {
            "text/plain": [
              "<Figure size 1200x600 with 6 Axes>"
            ],
            "image/png": "[encoded data removed]"
          },
          "metadata": {}
        }
      ]
    },
    {
      "cell_type": "markdown",
      "source": [
        "### Шаг 4: Оценка противоречивых примеров на обеих моделях\n",
        " Теперь мы проверим, как эти противоречивые примеры влияют на обе модели — первую, для\n",
        " которой они были созданы, и вторую, которая их не видела."
      ],
      "metadata": {
        "id": "At_dLSqNGdZJ"
      }
    },
    {
      "cell_type": "code",
      "source": [
        "# Оценим полносвязную модель на противоречивых примерах:\n",
        "adversarial_loss1, adversarial_acc1 = model1.evaluate(adversarial_images_model1.reshape(10000, 28, 28),test_labels)\n",
        "# Оценим свёрточную модель на противоречивых примерах:\n",
        "adversarial_loss2, adversarial_acc2 = model2.evaluate(adversarial_images_model1.reshape(10000, 28, 28),test_labels)\n",
        "print(f'Точность полносвязной модели: {adversarial_acc1}')\n",
        "print(f'Точность свёрточной модели: {adversarial_acc2}')"
      ],
      "metadata": {
        "colab": {
          "base_uri": "https://localhost:8080/"
        },
        "id": "nPIc85OBGhN5",
        "outputId": "d8ab7bdf-2f96-4ba7-a87b-e735c4d01a5e"
      },
      "execution_count": 44,
      "outputs": [
        {
          "output_type": "stream",
          "name": "stdout",
          "text": [
            "\u001b[1m313/313\u001b[0m \u001b[32m━━━━━━━━━━━━━━━━━━━━\u001b[0m\u001b[37m\u001b[0m \u001b[1m1s\u001b[0m 2ms/step - accuracy: 0.0876 - loss: 6.7421\n",
            "\u001b[1m313/313\u001b[0m \u001b[32m━━━━━━━━━━━━━━━━━━━━\u001b[0m\u001b[37m\u001b[0m \u001b[1m2s\u001b[0m 6ms/step - accuracy: 0.9561 - loss: 0.1544\n",
            "Точность полносвязной модели: 0.11479999870061874\n",
            "Точность свёрточной модели: 0.9610999822616577\n"
          ]
        }
      ]
    },
    {
      "cell_type": "markdown",
      "source": [
        "Вывод: Атака оказала незначительное влияние на точность свёрточной модели, снизив её всего на ~2%. Это говорит о слабой переносимости атаки с полносвязной модели на свёрточную."
      ],
      "metadata": {
        "id": "CrHTkL07J75E"
      }
    },
    {
      "cell_type": "markdown",
      "source": [
        "### Шаг 5: Анализ переносимости атак"
      ],
      "metadata": {
        "id": "lrZw7GWKKGkU"
      }
    },
    {
      "cell_type": "code",
      "source": [
        "adversarial_images_model2 = generate_fgsm_adversarial(model2, test_images, test_labels, epsilon)"
      ],
      "metadata": {
        "id": "akOSynHgKLlS"
      },
      "execution_count": 46,
      "outputs": []
    },
    {
      "cell_type": "markdown",
      "source": [
        "Визуализация"
      ],
      "metadata": {
        "id": "PourBYewK2fl"
      }
    },
    {
      "cell_type": "code",
      "source": [
        "# Количество картинок для визуализации\n",
        "NUM_EXAMPLES = 3\n",
        "\n",
        "# Визуализация оригинальных и противоречивых изображений без использования функции\n",
        "plt.figure(figsize=(12, 6))\n",
        "\n",
        "for i in range(NUM_EXAMPLES):\n",
        "    # Оригинальное изображение\n",
        "    plt.subplot(2, NUM_EXAMPLES, i + 1)\n",
        "    plt.imshow(test_images[i].reshape(28, 28), cmap='gray')\n",
        "    plt.title(f\"Оригинальное изображение:\")\n",
        "    plt.axis('off')\n",
        "\n",
        "    # Противоречивое изображение\n",
        "    plt.subplot(2, NUM_EXAMPLES, NUM_EXAMPLES + i + 1)\n",
        "    plt.imshow(adversarial_images_model2[i], cmap='gray')\n",
        "    plt.title(\"Противоречивое изображение:\")\n",
        "    plt.axis('off')\n",
        "\n",
        "plt.tight_layout()\n",
        "plt.show()"
      ],
      "metadata": {
        "colab": {
          "base_uri": "https://localhost:8080/",
          "height": 502
        },
        "id": "ysfisnoOK4XJ",
        "outputId": "3d7b5ada-193f-4196-cc39-4b2cf2ba6d49"
      },
      "execution_count": 47,
      "outputs": [
        {
          "output_type": "display_data",
          "data": {
            "text/plain": [
              "<Figure size 1200x600 with 6 Axes>"
            ],
            "image/png": "[encoded data removed]"
          },
          "metadata": {}
        }
      ]
    },
    {
      "cell_type": "code",
      "source": [
        "# Оценим полносвязную модель на противоречивых примерах:\n",
        "dense_model_loss, dense_model_accuracy = model1.evaluate(adversarial_images_model2.reshape(10000, 28, 28), test_labels)\n",
        "# Оценим свёрточную модель на противоречивых примерах:\n",
        "cnn_model_loss, cnn_model_accuracy = model2.evaluate(adversarial_images_model2.reshape(10000, 28, 28), test_labels)\n",
        "print(f'Точность полносвязной модели: {dense_model_accuracy}')\n",
        "print(f'Точность свёрточной модели: {cnn_model_accuracy}')"
      ],
      "metadata": {
        "colab": {
          "base_uri": "https://localhost:8080/"
        },
        "id": "7wZVB3tULcf1",
        "outputId": "2fb96a6b-35d4-40f7-e760-5bf93910bc28"
      },
      "execution_count": 52,
      "outputs": [
        {
          "output_type": "stream",
          "name": "stdout",
          "text": [
            "\u001b[1m313/313\u001b[0m \u001b[32m━━━━━━━━━━━━━━━━━━━━\u001b[0m\u001b[37m\u001b[0m \u001b[1m0s\u001b[0m 1ms/step - accuracy: 0.9547 - loss: 0.1463\n",
            "\u001b[1m313/313\u001b[0m \u001b[32m━━━━━━━━━━━━━━━━━━━━\u001b[0m\u001b[37m\u001b[0m \u001b[1m2s\u001b[0m 6ms/step - accuracy: 0.7222 - loss: 1.1361\n",
            "Точность полносвязной модели: 0.9575999975204468\n",
            "Точность свёрточной модели: 0.7407000064849854\n"
          ]
        }
      ]
    },
    {
      "cell_type": "markdown",
      "source": [
        "Вывод:Теперь наблюдается обратная картина: свёрточная модель показывает результат хуже, с точностью всего ~74%, тогда как полносвязная модель оказалась более устойчивой к атаке, потеряв лишь ~2% точности.\n",
        "\n",
        "Атака FGSM между моделями переносится плохо"
      ],
      "metadata": {
        "id": "fT_aiIY2MgJf"
      }
    },
    {
      "cell_type": "markdown",
      "source": [
        "## Вывод\n",
        "Результаты атак FGSM показывают, что влияние противоречивых примеров значительно различается в зависимости от архитектуры модели. Атака, направленная на полносвязную модель, снижает её точность до 95.76%, а точность свёрточной модели падает до 74.07%, что указывает на ограниченную переносимость атаки на свёрточную архитектуру. В случае атаки на свёрточную модель она сохраняет практически неизменную точность 96.11%, тогда как полносвязная модель становится крайне уязвимой, демонстрируя точность всего 11.48%. Это свидетельствует о том, что свёрточная модель обладает большей устойчивостью к атакам и способностью к обобщению, тогда как полносвязная модель более подвержена переносу атак. Данные результаты подчёркивают необходимость анализа устойчивости моделей и выбора оптимальной архитектуры для защиты от подобных воздействий."
      ],
      "metadata": {
        "id": "-JmvSslfNs4b"
      }
    }
  ]
}