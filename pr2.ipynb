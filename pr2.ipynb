{
  "nbformat": 4,
  "nbformat_minor": 0,
  "metadata": {
    "colab": {
      "provenance": [],
      "authorship_tag": "ABX9TyMO7euMHHD5Y4XWJdPqKVEo",
      "include_colab_link": true
    },
    "kernelspec": {
      "name": "python3",
      "display_name": "Python 3"
    },
    "language_info": {
      "name": "python"
    }
  },
  "cells": [
    {
      "cell_type": "markdown",
      "metadata": {
        "id": "view-in-github",
        "colab_type": "text"
      },
      "source": [
        "<a href=\"https://colab.research.google.com/github/hipster-x/azsii1/blob/main/pr2.ipynb\" target=\"_parent\"><img src=\"https://colab.research.google.com/assets/colab-badge.svg\" alt=\"Open In Colab\"/></a>"
      ]
    },
    {
      "cell_type": "markdown",
      "source": [
        "# Практика 2: Исследование атак на модели ИИ. Fast Gradient Sign Method (FGSM)\n"
      ],
      "metadata": {
        "id": "u6qm2AHn4z2E"
      }
    },
    {
      "cell_type": "markdown",
      "source": [
        "## Цель задания:\n",
        "Познакомиться с одной из популярных атак на системы машинного обучения — атакой Fast Gradient\n",
        "Sign Method (FGSM). Задача — научиться использовать FGSM для создания противоречивых (adversarial)\n",
        "примеров, которые могут ввести обученную модель в заблуждение.\n",
        "Задачи:\n",
        "1. Загрузить ранее обученную модель на датасете MNIST.\n",
        "2. Изучить теоретические основы FGSM.\n",
        "3. Реализовать атаку FGSM и сгенерировать противоречивые примеры.\n",
        "4. Оценить точность модели на противоречивых примерах и сравнить с результатами на обычных\n",
        "данных.\n",
        "\n",
        "Выполнил студент ББМО-02-23 Евдокимов А.М."
      ],
      "metadata": {
        "id": "xTnAniVE440c"
      }
    },
    {
      "cell_type": "markdown",
      "source": [
        "## Шаги выполнения"
      ],
      "metadata": {
        "id": "DXqeT95L5vUL"
      }
    },
    {
      "cell_type": "markdown",
      "source": [
        "### Шаг 1: Загрузка обученной модели и данных MNIST"
      ],
      "metadata": {
        "id": "kXnjvB7X5yha"
      }
    },
    {
      "cell_type": "code",
      "execution_count": 26,
      "metadata": {
        "colab": {
          "base_uri": "https://localhost:8080/"
        },
        "id": "AYe_vsLrxvTu",
        "outputId": "67944c94-0e17-4b6d-b029-be996e134611"
      },
      "outputs": [
        {
          "output_type": "stream",
          "name": "stderr",
          "text": [
            "WARNING:absl:Compiled the loaded model, but the compiled metrics have yet to be built. `model.compile_metrics` will be empty until you train or evaluate the model.\n"
          ]
        },
        {
          "output_type": "stream",
          "name": "stdout",
          "text": [
            "\u001b[1m313/313\u001b[0m \u001b[32m━━━━━━━━━━━━━━━━━━━━\u001b[0m\u001b[37m\u001b[0m \u001b[1m2s\u001b[0m 4ms/step - accuracy: 0.9733 - loss: 0.0970\n",
            "Test accuracy on clean images: 0.9768\n"
          ]
        }
      ],
      "source": [
        "import tensorflow as tf\n",
        "from tensorflow.keras.datasets import mnist\n",
        "from tensorflow.keras.utils import to_categorical\n",
        "\n",
        "# Загрузка тестовых данных MNIST\n",
        "(_, _), (test_images, test_labels) = mnist.load_data()\n",
        "\n",
        "# Нормализация данных\n",
        "test_images = test_images / 255.0\n",
        "\n",
        "# Преобразование меток в категориальный формат\n",
        "test_labels = to_categorical(test_labels, num_classes=10)\n",
        "\n",
        "# Загрузка обученной модели\n",
        "model = tf.keras.models.load_model('mnist_model.h5')\n",
        "\n",
        "# Проверка точности модели на обычных данных\n",
        "test_loss, test_acc = model.evaluate(test_images.reshape(-1, 28, 28, 1), test_labels)  # Обратите внимание на изменение формы\n",
        "print(f'Test accuracy on clean images: {test_acc:.4f}')"
      ]
    },
    {
      "cell_type": "markdown",
      "source": [
        "### Шаг 2: Теория FGSM\n"
      ],
      "metadata": {
        "id": "syAWlO0F53D6"
      }
    },
    {
      "cell_type": "markdown",
      "source": [
        "Атака Fast Gradient Sign Method (FGSM) — это метод генерации противоречивых примеров, который\n",
        "изменяет пиксели изображения на минимальные величины, направленные на ухудшение предсказаний\n",
        "модели. FGSM использует градиент потерь по отношению к входному изображению и добавляет\n",
        "небольшие изменения, чтобы максимизировать ошибку предсказания.\n"
      ],
      "metadata": {
        "id": "mGWgcEdn5452"
      }
    },
    {
      "cell_type": "markdown",
      "source": [
        "### Шаг 3: Реализация атаки FGSM\n"
      ],
      "metadata": {
        "id": "mBqyFZvE56PC"
      }
    },
    {
      "cell_type": "code",
      "source": [
        "import numpy as np\n",
        "import matplotlib.pyplot as plt\n",
        "\n",
        "# Функция для реализации FGSM атаки\n",
        "def fgsm_attack(image, epsilon, gradient):\n",
        "    # Применение знака градиента к изображению\n",
        "    perturbed_image = image + epsilon * np.sign(gradient)\n",
        "    # Обрезка значений, чтобы они оставались в пределах [0,1]\n",
        "    perturbed_image = np.clip(perturbed_image, 0, 1)\n",
        "    return perturbed_image\n",
        "\n",
        "# Вычисление градиента\n",
        "def generate_adversarial_example(model, image, label, epsilon):\n",
        "    # Приведение изображения к нужному формату\n",
        "    image = tf.convert_to_tensor(image.reshape((1, 28, 28, 1)))\n",
        "    label = tf.convert_to_tensor(label)\n",
        "\n",
        "    with tf.GradientTape() as tape:\n",
        "        tape.watch(image)\n",
        "        prediction = model(image)\n",
        "        # Применение функции потерь\n",
        "        loss = tf.keras.losses.sparse_categorical_crossentropy(label[None], prediction)\n",
        "\n",
        "    # Получение градиента по отношению к входному изображению\n",
        "    gradient = tape.gradient(loss, image)\n",
        "    # Применение FGSM\n",
        "    adversarial_image = fgsm_attack(image.numpy(), epsilon, gradient.numpy())\n",
        "    return adversarial_image\n",
        "\n",
        "# Пример использования\n",
        "epsilon = 0.1  # Величина шума\n",
        "adversarial_example = generate_adversarial_example(model, test_images[0], test_labels[0], epsilon)\n",
        "\n",
        "# Вывод результатов\n",
        "plt.figure()\n",
        "plt.subplot(1, 2, 1)\n",
        "plt.title(\"Оригинальное изображение\")\n",
        "plt.imshow(test_images[0], cmap=\"gray\")\n",
        "plt.subplot(1, 2, 2)\n",
        "plt.title(\"Противоречивое изображение\")\n",
        "plt.imshow(adversarial_example.reshape(28, 28), cmap=\"gray\")\n",
        "plt.show()\n",
        "\n",
        "print(f'Точность на чистых изображениях: {test_acc:.4f}')"
      ],
      "metadata": {
        "colab": {
          "base_uri": "https://localhost:8080/",
          "height": 325
        },
        "id": "2fWve695ydHw",
        "outputId": "c586f7b0-9de5-45d4-c517-358545ce7b94"
      },
      "execution_count": 29,
      "outputs": [
        {
          "output_type": "display_data",
          "data": {
            "text/plain": [
              "<Figure size 640x480 with 2 Axes>"
            ],
            "image/png": "[encoded data removed]"
          },
          "metadata": {}
        },
        {
          "output_type": "stream",
          "name": "stdout",
          "text": [
            "Точность на чистых изображениях: 0.9768\n"
          ]
        }
      ]
    },
    {
      "cell_type": "markdown",
      "source": [
        "### Шаг 4: Оценка модели на противоречивых примерах\n"
      ],
      "metadata": {
        "id": "CgX9JyVQ59S7"
      }
    },
    {
      "cell_type": "code",
      "source": [
        "# Генерация противоречивых примеров для всего набора данных\n",
        "def generate_adversarial_dataset(model, images, labels, epsilon):\n",
        "    adversarial_images = []\n",
        "    for i in range(len(images)):\n",
        "        # Генерация противоречивого изображения\n",
        "        adv_image = generate_adversarial_example(model, images[i], labels[i], epsilon)\n",
        "        adversarial_images.append(adv_image)\n",
        "\n",
        "    return np.array(adversarial_images)\n",
        "\n",
        "# Генерация противоречивых примеров\n",
        "adversarial_images = generate_adversarial_dataset(model, test_images, test_labels, epsilon)\n",
        "\n",
        "# Оценка модели на противоречивых примерах\n",
        "adversarial_loss, adversarial_acc = model.evaluate(adversarial_images.reshape(-1, 28, 28, 1), test_labels)\n",
        "print(f'Точность на противоречивых примерах: {adversarial_acc:.4f}')"
      ],
      "metadata": {
        "id": "OK4hS5Jwyinh",
        "colab": {
          "base_uri": "https://localhost:8080/"
        },
        "outputId": "6d665fdf-abf5-4b78-cdaf-2e5c6757cd2b"
      },
      "execution_count": 30,
      "outputs": [
        {
          "output_type": "stream",
          "name": "stdout",
          "text": [
            "\u001b[1m313/313\u001b[0m \u001b[32m━━━━━━━━━━━━━━━━━━━━\u001b[0m\u001b[37m\u001b[0m \u001b[1m1s\u001b[0m 2ms/step - accuracy: 0.0986 - loss: 6.7668\n",
            "Точность на противоречивых примерах: 0.1330\n"
          ]
        }
      ]
    },
    {
      "cell_type": "markdown",
      "source": [
        "### Шаг 5: Сравнение результатов"
      ],
      "metadata": {
        "id": "qUwY5Pck5_4M"
      }
    },
    {
      "cell_type": "markdown",
      "source": [
        "Вывод: разница в точности модели на стандартных и атакующих примерах поразительна. На \"чистых изображениях\" точность достигает 97,68%, тогда как на атакующих снижается до 13,30%. Это показывает уязвимость модели к целенаправленным искажениям — распространённой проблеме в машинном обучении.\n",
        "\n",
        "Столь значительное падение точности указывает на неспособность модели эффективно распознавать примеры при наличии небольших, но целенаправленных изменений."
      ],
      "metadata": {
        "id": "tx259ADX3wfh"
      }
    }
  ]
}